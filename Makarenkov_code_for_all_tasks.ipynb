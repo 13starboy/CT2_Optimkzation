{
  "nbformat": 4,
  "nbformat_minor": 0,
  "metadata": {
    "colab": {
      "provenance": []
    },
    "kernelspec": {
      "name": "python3",
      "display_name": "Python 3"
    },
    "language_info": {
      "name": "python"
    }
  },
  "cells": [
    {
      "cell_type": "markdown",
      "source": [
        "Задание 1"
      ],
      "metadata": {
        "id": "1rnlRt_M0UKJ"
      }
    },
    {
      "cell_type": "code",
      "execution_count": null,
      "metadata": {
        "colab": {
          "base_uri": "https://localhost:8080/"
        },
        "id": "AF01sPvDFwLc",
        "outputId": "d31cabbf-7a96-4d0b-cd7f-4169b74a9257"
      },
      "outputs": [
        {
          "output_type": "stream",
          "name": "stdout",
          "text": [
            "1:h1(x_bar) = 0\n",
            "1:g1(x_bar) = 0\n",
            "1:g2(x_bar) = -3.0\n",
            "2:h1(x_bar) = -1.627774801704618e-05\n",
            "2:g1(x_bar) = -6.939606000000001\n",
            "2:g2(x_bar) = -4.9999999873762135e-06\n",
            "3:h1(x_bar) = 0\n",
            "3:g1(x_bar) = -38\n",
            "3:g2(x_bar) = 0.0\n"
          ]
        }
      ],
      "source": [
        "import numpy as np\n",
        "\n",
        "def h1(x):\n",
        "    return 8*x[0]**2 + 10*x[0]*x[1] + 6*x[0]*x[2] - 48*x[0] + 8*x[1]**2 + 8*x[1]*x[2] - 14*x[1] + 3*x[2]**2 + 36*x[2] - 120\n",
        "\n",
        "def g1(x):\n",
        "    return -8*x[0] - 3*x[1] + 4*x[2] - 2\n",
        "\n",
        "def g2(x):\n",
        "    return -4*x[0] + 104.5*x[1] + 97*x[2] - 406\n",
        "\n",
        "# Test the functions with the given point x\n",
        "x_bar = np.array([0, 2, 2])\n",
        "h1_value = h1(x_bar)\n",
        "g1_value = g1(x_bar)\n",
        "g2_value = g2(x_bar)\n",
        "\n",
        "print(f\"1:h1(x_bar) = {h1_value}\")\n",
        "print(f\"1:g1(x_bar) = {g1_value}\")\n",
        "print(f\"1:g2(x_bar) = {g2_value}\")\n",
        "\n",
        "x_bar = np.array([0.989103, 1.906098, 2.172878])\n",
        "h1_value = h1(x_bar)\n",
        "g1_value = g1(x_bar)\n",
        "g2_value = g2(x_bar)\n",
        "\n",
        "print(f\"2:h1(x_bar) = {h1_value}\")\n",
        "print(f\"2:g1(x_bar) = {g1_value}\")\n",
        "print(f\"2:g2(x_bar) = {g2_value}\")\n",
        "\n",
        "x_bar = np.array([3, 4, 0])\n",
        "h1_value = h1(x_bar)\n",
        "g1_value = g1(x_bar)\n",
        "g2_value = g2(x_bar)\n",
        "\n",
        "print(f\"3:h1(x_bar) = {h1_value}\")\n",
        "print(f\"3:g1(x_bar) = {g1_value}\")\n",
        "print(f\"3:g2(x_bar) = {g2_value}\")\n"
      ]
    },
    {
      "cell_type": "markdown",
      "source": [
        "Все точки удовлетворяют условиям, поэтому продолжим решать: возьмем производные от h и f"
      ],
      "metadata": {
        "id": "oQE9svqLMEPv"
      }
    },
    {
      "cell_type": "code",
      "source": [
        "def f1_x1(x):\n",
        "    return -12*x[0]**3+12*x[0]*(x[1]**2) - 8*x[0]*(x[2]**2)\n",
        "\n",
        "def f1_x2(x):\n",
        "    return 12*x[1]*(x[0]**2) + 20*x[1]*(x[2]**2)\n",
        "\n",
        "def f1_x3(x):\n",
        "    return -8*x[2]*(x[0]**2) + 20*x[2]*(x[1]**2) + 8*x[2]**3\n",
        "\n",
        "def h1_x1(x):\n",
        "    return 16*x[0] + 10*x[1] + 6*x[2] - 48\n",
        "\n",
        "def h1_x2(x):\n",
        "    return 10*x[0] + 16*x[1] + 8*x[2] - 14\n",
        "\n",
        "def h1_x3(x):\n",
        "    return 6*x[0] + 8*x[1] + 6*x[2] + 36\n",
        "\n",
        "# Test the functions with the given point x\n",
        "x_bar = np.array([0, 2, 2])\n",
        "f1_x1_value = f1_x1(x_bar)\n",
        "f1_x2_value = f1_x2(x_bar)\n",
        "f1_x3_value = f1_x3(x_bar)\n",
        "h1_x1_value = h1_x1(x_bar)\n",
        "h1_x2_value = h1_x2(x_bar)\n",
        "h1_x3_value = h1_x3(x_bar)\n",
        "\n",
        "print(f\"f1_x1(x_bar) = {f1_x1_value}\")\n",
        "print(f\"f1_x2(x_bar) = {f1_x2_value}\")\n",
        "print(f\"f1_x3(x_bar) = {f1_x3_value}\")\n",
        "print(f\"h1_x1(x_bar) = {h1_x1_value}\")\n",
        "print(f\"h1_x2(x_bar) = {h1_x2_value}\")\n",
        "print(f\"h1_x3(x_bar) = {h1_x3_value}\")\n",
        "print(\"-----------------------------\")\n",
        "\n",
        "x_bar = np.array([0.989103, 1.906098, 2.172878])\n",
        "f1_x1_value = f1_x1(x_bar)\n",
        "f1_x2_value = f1_x2(x_bar)\n",
        "f1_x3_value = f1_x3(x_bar)\n",
        "h1_x1_value = h1_x1(x_bar)\n",
        "h1_x2_value = h1_x2(x_bar)\n",
        "h1_x3_value = h1_x3(x_bar)\n",
        "\n",
        "print(f\"f1_x1(x_bar) = {f1_x1_value}\")\n",
        "print(f\"f1_x2(x_bar) = {f1_x2_value}\")\n",
        "print(f\"f1_x3(x_bar) = {f1_x3_value}\")\n",
        "print(f\"h1_x1(x_bar) = {h1_x1_value}\")\n",
        "print(f\"h1_x2(x_bar) = {h1_x2_value}\")\n",
        "print(f\"h1_x3(x_bar) = {h1_x3_value}\")\n",
        "print(\"-----------------------------\")\n",
        "\n",
        "x_bar = np.array([3, 4, 0])\n",
        "f1_x1_value = f1_x1(x_bar)\n",
        "f1_x2_value = f1_x2(x_bar)\n",
        "f1_x3_value = f1_x3(x_bar)\n",
        "h1_x1_value = h1_x1(x_bar)\n",
        "h1_x2_value = h1_x2(x_bar)\n",
        "h1_x3_value = h1_x3(x_bar)\n",
        "\n",
        "print(f\"f1_x1(x_bar) = {f1_x1_value}\")\n",
        "print(f\"f1_x2(x_bar) = {f1_x2_value}\")\n",
        "print(f\"f1_x3(x_bar) = {f1_x3_value}\")\n",
        "print(f\"h1_x1(x_bar) = {h1_x1_value}\")\n",
        "print(f\"h1_x2(x_bar) = {h1_x2_value}\")\n",
        "print(f\"h1_x3(x_bar) = {h1_x3_value}\")"
      ],
      "metadata": {
        "colab": {
          "base_uri": "https://localhost:8080/"
        },
        "id": "LQS3ERH_L3YZ",
        "outputId": "ae365913-6d65-4e03-b864-2b0f0176e8d3"
      },
      "execution_count": null,
      "outputs": [
        {
          "output_type": "stream",
          "name": "stdout",
          "text": [
            "f1_x1(x_bar) = 0\n",
            "f1_x2(x_bar) = 160\n",
            "f1_x3(x_bar) = 224\n",
            "h1_x1(x_bar) = -16\n",
            "h1_x2(x_bar) = 34\n",
            "h1_x3(x_bar) = 64\n",
            "-----------------------------\n",
            "f1_x1(x_bar) = -5.848143030439637\n",
            "f1_x2(x_bar) = 202.36637037618843\n",
            "f1_x3(x_bar) = 222.9563697477327\n",
            "h1_x1(x_bar) = -0.07610400000000084\n",
            "h1_x2(x_bar) = 43.771622\n",
            "h1_x3(x_bar) = 70.22067\n",
            "-----------------------------\n",
            "f1_x1(x_bar) = 252\n",
            "f1_x2(x_bar) = 432\n",
            "f1_x3(x_bar) = 0\n",
            "h1_x1(x_bar) = 40\n",
            "h1_x2(x_bar) = 80\n",
            "h1_x3(x_bar) = 86\n"
          ]
        }
      ]
    },
    {
      "cell_type": "markdown",
      "source": [
        "Задание 2\n"
      ],
      "metadata": {
        "id": "nE6lnZXR0Np6"
      }
    },
    {
      "cell_type": "code",
      "source": [
        "import numpy as np\n",
        "\n",
        "# Function\n",
        "def func(x):\n",
        "  n = len(x)\n",
        "  res = 0\n",
        "  for i in range(n - 1):\n",
        "    res += 4 * ((x[i] ** 2 + x[i + 1] ** 2) ** 2)\n",
        "  for i in range(n - 1):\n",
        "    res += (-4 * x[i] + 3)\n",
        "  return res\n",
        "\n",
        "# Derivative\n",
        "def grad(x):\n",
        "  n = len(x)\n",
        "  res = [0] * n\n",
        "  for i in range(n - 1):\n",
        "    res[i] += 4 * 2 * (x[i] ** 2 + x[i + 1] ** 2) * 2 * x[i]\n",
        "    res[i + 1] += 4 * 2 * (x[i] ** 2 + x[i + 1] ** 2) * 2 * x[i + 1]\n",
        "\n",
        "  for i in range(n - 1):\n",
        "    res[i] += -4\n",
        "\n",
        "  return np.array(res)\n",
        "\n",
        "\n",
        "def norm(vec):\n",
        "    res = 0\n",
        "    for v in vec:\n",
        "        res += v * v\n",
        "    return res ** 0.5\n",
        "\n",
        "\n",
        "def gold(func, grad, x_k, d, max_alpha=1, rho=0.001, t=2):\n",
        "    phi_0 = func(x_k)\n",
        "    dphi_0 = np.dot(grad(x_k), d)\n",
        "    a = 0\n",
        "    b = max_alpha\n",
        "    k = 0\n",
        "    np.random.seed(42)\n",
        "    alpha = np.random.rand()*max_alpha\n",
        "    max_iter = 1000\n",
        "    while k < max_iter:\n",
        "        phi = func(x_k + d*alpha)\n",
        "        if phi_0 + rho*alpha*dphi_0 >= phi:\n",
        "            if phi_0 + (1-rho)*alpha*dphi_0 <= phi:\n",
        "                break\n",
        "            else:\n",
        "                a = alpha\n",
        "                if b >= max_alpha:\n",
        "                    alpha = t*alpha\n",
        "                    k += 1\n",
        "                    continue\n",
        "        else:\n",
        "            b = alpha\n",
        "        alpha = 0.5*(a+b)\n",
        "        k += 1\n",
        "    return alpha\n",
        "\n",
        "\n",
        "def fletch_reev(func, grad, x0, epsilon):\n",
        "    k = 0\n",
        "    p, x, alpha, beta = [-grad(x0)], [x0], [], ['_']\n",
        "    while norm(grad(x[k])) > epsilon:\n",
        "        alpha += [gold(func, grad, x[k], p[k])]\n",
        "        x += [x[k] + alpha[k] * p[k]]\n",
        "        beta += [norm(grad(x[k + 1])) ** 2 / norm(grad(x[k])) ** 2]\n",
        "        p += [-grad(x[k + 1]) + beta[k + 1] * p[k]]\n",
        "        k += 1\n",
        "    return (x[k], func(x[k]), k)\n",
        "\n",
        "\n",
        "x0 = np.array([2] * 10)\n",
        "point, res, num= fletch_reev(func, grad, x0, epsilon=0.001)\n",
        "\n",
        "print('Final point: %s' % (point))\n",
        "print('Num of interation: %s' % (num))\n",
        "print('Value of the function: %s' % (res))"
      ],
      "metadata": {
        "colab": {
          "base_uri": "https://localhost:8080/"
        },
        "id": "OjgPJqZm0O1M",
        "outputId": "62dfb31a-1e4d-4ba9-f26c-5a515e7e337b"
      },
      "execution_count": 60,
      "outputs": [
        {
          "output_type": "stream",
          "name": "stdout",
          "text": [
            "Final point: [5.67606652e-01 3.43872227e-01 4.10230227e-01 3.93131284e-01\n",
            " 3.98105386e-01 3.95477026e-01 4.01001309e-01 3.81302155e-01\n",
            " 4.51697028e-01 3.23586330e-05]\n",
            "Num of interation: 53\n",
            "Value of the function: 15.77250962951612\n"
          ]
        }
      ]
    },
    {
      "cell_type": "markdown",
      "source": [
        "Задание 3"
      ],
      "metadata": {
        "id": "bEYoRuGEz_KZ"
      }
    },
    {
      "cell_type": "code",
      "source": [
        "import numpy as np\n",
        "import numpy.linalg as ln\n",
        "import scipy as sp\n",
        "import scipy.optimize\n",
        "\n",
        "\n",
        "# Function\n",
        "def f(x):\n",
        "    n = len(x)\n",
        "    res = 0\n",
        "    for i in range(n - 1):\n",
        "        res += (x[i]**2 - 2)**2\n",
        "    res1 = 0\n",
        "    for i in range(n):\n",
        "        res1 += x[i]**2\n",
        "    res1 -= 0.5\n",
        "    res += res1 ** 2\n",
        "    return res\n",
        "\n",
        "\n",
        "# Derivative\n",
        "def f1(x):\n",
        "    n = len(x)\n",
        "    res = [0] * n\n",
        "    for i in range(n - 1):\n",
        "        res[i] += 2*(x[i]**2 - 2)*2*x[i]\n",
        "    res1 = 0\n",
        "    for i in range(n):\n",
        "        res1 += x[i] ** 2\n",
        "    res1 -= 0.5\n",
        "    for i in range(n):\n",
        "        res[i] += 2*res1*2*x[i]\n",
        "    return np.array(res)\n",
        "\n",
        "\n",
        "def bfgs(f, fprime, x0, eps=0.001):\n",
        "\n",
        "    k = 0\n",
        "    gfk = fprime(x0)\n",
        "    N = len(x0)\n",
        "    Identity = np.eye(N, dtype=int)\n",
        "    Hk = Identity\n",
        "    xk = x0\n",
        "\n",
        "    while ln.norm(gfk) > eps:\n",
        "        pk = -np.dot(Hk, gfk)\n",
        "        wolf_search = sp.optimize.line_search(f, f1, xk, pk)\n",
        "        alpha = wolf_search[0]\n",
        "\n",
        "        xkp = xk + alpha * pk\n",
        "        sk = xkp - xk\n",
        "        xk = xkp\n",
        "\n",
        "        gfkp1 = fprime(xkp)\n",
        "        yk = gfkp1 - gfk\n",
        "        gfk = gfkp1\n",
        "\n",
        "        k += 1\n",
        "\n",
        "        ro = 1.0 / (np.dot(yk, sk))\n",
        "        A1 = Identity - ro * sk[:, np.newaxis] * yk[np.newaxis, :]\n",
        "        A2 = Identity - ro * yk[:, np.newaxis] * sk[np.newaxis, :]\n",
        "        Hk = np.dot(A1, np.dot(Hk, A2)) + (ro * sk[:, np.newaxis] *\n",
        "                                           sk[np.newaxis, :])\n",
        "    return (xk, k)\n",
        "\n",
        "\n",
        "res, num = bfgs(f, f1, np.array([1]*10))\n",
        "\n",
        "print('Final point: %s' % (res))\n",
        "print('Num of interation: %s' % (num))\n",
        "print('Value of the function: %s' % (f(res)))"
      ],
      "metadata": {
        "colab": {
          "base_uri": "https://localhost:8080/"
        },
        "id": "xzN4jv9Dz7pb",
        "outputId": "c596fae1-c1a3-439f-ac5c-ef1135a43044"
      },
      "execution_count": 2,
      "outputs": [
        {
          "output_type": "stream",
          "name": "stdout",
          "text": [
            "Final point: [-5.00001514e-01 -5.00001514e-01 -5.00001514e-01 -5.00001514e-01\n",
            " -5.00001514e-01 -5.00001514e-01 -5.00001514e-01 -5.00001514e-01\n",
            " -5.00001514e-01 -1.43849011e-06]\n",
            "Num of interation: 7\n",
            "Value of the function: 30.625000000213618\n"
          ]
        }
      ]
    }
  ]
}